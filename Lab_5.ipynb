{
  "nbformat": 4,
  "nbformat_minor": 0,
  "metadata": {
    "kernelspec": {
      "display_name": "Python 3",
      "language": "python",
      "name": "python3"
    },
    "language_info": {
      "codemirror_mode": {
        "name": "ipython",
        "version": 3
      },
      "file_extension": ".py",
      "mimetype": "text/x-python",
      "name": "python",
      "nbconvert_exporter": "python",
      "pygments_lexer": "ipython3",
      "version": "3.8.8"
    },
    "colab": {
      "name": "Lab 5.ipynb",
      "provenance": [],
      "collapsed_sections": []
    }
  },
  "cells": [
    {
      "cell_type": "code",
      "metadata": {
        "colab": {
          "base_uri": "https://localhost:8080/"
        },
        "id": "XRlxLGRtzEub",
        "outputId": "d132cbed-aa08-4129-b8bf-60362d356627"
      },
      "source": [
        "import nltk\n",
        "import sklearn\n",
        "import pandas as pd\n",
        "import numpy as np\n",
        "import re\n",
        "import string\n",
        "nltk.download(\"stopwords\")\n",
        "from nltk.corpus import stopwords"
      ],
      "execution_count": 1,
      "outputs": [
        {
          "output_type": "stream",
          "name": "stdout",
          "text": [
            "[nltk_data] Downloading package stopwords to /root/nltk_data...\n",
            "[nltk_data]   Package stopwords is already up-to-date!\n"
          ]
        }
      ]
    },
    {
      "cell_type": "code",
      "metadata": {
        "id": "f9-HtaPxzEue"
      },
      "source": [
        "from sklearn.datasets import fetch_20newsgroups"
      ],
      "execution_count": 2,
      "outputs": []
    },
    {
      "cell_type": "code",
      "metadata": {
        "id": "Hi4fjAq-zEue"
      },
      "source": [
        "categories = fetch_20newsgroups().target_names"
      ],
      "execution_count": 3,
      "outputs": []
    },
    {
      "cell_type": "code",
      "metadata": {
        "id": "gcF_LvGHzEuf"
      },
      "source": [
        "train= fetch_20newsgroups(subset=\"train\" ,categories = categories) "
      ],
      "execution_count": 4,
      "outputs": []
    },
    {
      "cell_type": "code",
      "metadata": {
        "id": "bSztgqUxzEuf"
      },
      "source": [
        "test= fetch_20newsgroups(subset=\"test\" ,categories = categories) "
      ],
      "execution_count": 5,
      "outputs": []
    },
    {
      "cell_type": "code",
      "metadata": {
        "colab": {
          "base_uri": "https://localhost:8080/"
        },
        "id": "OoiwIDvHzEuf",
        "outputId": "649b6aa2-a29e-4ee4-f143-2a372eb02642"
      },
      "source": [
        "df = pd.DataFrame(train[\"data\"], columns=[\"text\"])\n",
        "df[\"target\"] = train[\"target\"]\n",
        "print(df.head())\n",
        "\n",
        "df_test = pd.DataFrame(test[\"data\"], columns=[\"text\"])\n",
        "df_test[\"target\"] = test[\"target\"]\n",
        "print(df_test.head())"
      ],
      "execution_count": 6,
      "outputs": [
        {
          "output_type": "stream",
          "name": "stdout",
          "text": [
            "                                                text  target\n",
            "0  From: lerxst@wam.umd.edu (where's my thing)\\nS...       7\n",
            "1  From: guykuo@carson.u.washington.edu (Guy Kuo)...       4\n",
            "2  From: twillis@ec.ecn.purdue.edu (Thomas E Will...       4\n",
            "3  From: jgreen@amber (Joe Green)\\nSubject: Re: W...       1\n",
            "4  From: jcm@head-cfa.harvard.edu (Jonathan McDow...      14\n",
            "                                                text  target\n",
            "0  From: v064mb9k@ubvmsd.cc.buffalo.edu (NEIL B. ...       7\n",
            "1  From: Rick Miller <rick@ee.uwm.edu>\\nSubject: ...       5\n",
            "2  From: mathew <mathew@mantis.co.uk>\\nSubject: R...       0\n",
            "3  From: bakken@cs.arizona.edu (Dave Bakken)\\nSub...      17\n",
            "4  From: livesey@solntze.wpd.sgi.com (Jon Livesey...      19\n"
          ]
        }
      ]
    },
    {
      "cell_type": "code",
      "metadata": {
        "id": "k-QnyU0gzEug"
      },
      "source": [
        "df[\"text\"] = df[\"text\"].str.lower()\n",
        "df_test[\"text\"] = df_test[\"text\"].str.lower()"
      ],
      "execution_count": 7,
      "outputs": []
    },
    {
      "cell_type": "code",
      "metadata": {
        "id": "q7CRMjAozEuh"
      },
      "source": [
        "stop = stopwords.words('english')"
      ],
      "execution_count": 8,
      "outputs": []
    },
    {
      "cell_type": "code",
      "metadata": {
        "id": "pKCqegoHzEuh"
      },
      "source": [
        "email = re.compile(r'\\S+@\\S+')\n",
        "df['text'] = df['text'].apply(lambda x : email.sub(r'', x))\n",
        "df_test[\"text\"] = df_test[\"text\"].apply(lambda x : email.sub(r'', x))"
      ],
      "execution_count": 9,
      "outputs": []
    },
    {
      "cell_type": "code",
      "metadata": {
        "id": "w4LC6ftMzEui"
      },
      "source": [
        "html = re.compile(r'<.*?>')\n",
        "df['text'] = df['text'].apply(lambda x: html.sub(r'', x))\n",
        "df_test[\"text\"] = df_test[\"text\"].apply(lambda x: html.sub(r'', x))"
      ],
      "execution_count": 10,
      "outputs": []
    },
    {
      "cell_type": "code",
      "metadata": {
        "id": "xmcLSgeHzEui"
      },
      "source": [
        "table = str.maketrans('', '', string.punctuation)\n",
        "df['text'] = df['text'].apply(lambda x: x.translate(table))\n",
        "df_test[\"text\"] = df_test[\"text\"].apply(lambda x: x.translate(table))"
      ],
      "execution_count": 11,
      "outputs": []
    },
    {
      "cell_type": "code",
      "metadata": {
        "id": "Hvt-u7m01Akp"
      },
      "source": [
        "url = re.compile(r'https?://\\S+|www\\.\\S+')\n",
        "df['text'] = df['text'].apply(lambda x : url.sub(r'', x))\n",
        "df_test[\"text\"] = df_test[\"text\"].apply(lambda x : url.sub(r'', x))"
      ],
      "execution_count": 12,
      "outputs": []
    },
    {
      "cell_type": "code",
      "metadata": {
        "id": "CsEFPwwHzEui",
        "colab": {
          "base_uri": "https://localhost:8080/",
          "height": 203
        },
        "outputId": "a815dbf0-9ce2-4ca4-c20f-c0c5807f604e"
      },
      "source": [
        "df.head()"
      ],
      "execution_count": 13,
      "outputs": [
        {
          "output_type": "execute_result",
          "data": {
            "text/html": [
              "<div>\n",
              "<style scoped>\n",
              "    .dataframe tbody tr th:only-of-type {\n",
              "        vertical-align: middle;\n",
              "    }\n",
              "\n",
              "    .dataframe tbody tr th {\n",
              "        vertical-align: top;\n",
              "    }\n",
              "\n",
              "    .dataframe thead th {\n",
              "        text-align: right;\n",
              "    }\n",
              "</style>\n",
              "<table border=\"1\" class=\"dataframe\">\n",
              "  <thead>\n",
              "    <tr style=\"text-align: right;\">\n",
              "      <th></th>\n",
              "      <th>text</th>\n",
              "      <th>target</th>\n",
              "    </tr>\n",
              "  </thead>\n",
              "  <tbody>\n",
              "    <tr>\n",
              "      <th>0</th>\n",
              "      <td>from  wheres my thing\\nsubject what car is thi...</td>\n",
              "      <td>7</td>\n",
              "    </tr>\n",
              "    <tr>\n",
              "      <th>1</th>\n",
              "      <td>from  guy kuo\\nsubject si clock poll  final ca...</td>\n",
              "      <td>4</td>\n",
              "    </tr>\n",
              "    <tr>\n",
              "      <th>2</th>\n",
              "      <td>from  thomas e willis\\nsubject pb questions\\no...</td>\n",
              "      <td>4</td>\n",
              "    </tr>\n",
              "    <tr>\n",
              "      <th>3</th>\n",
              "      <td>from  joe green\\nsubject re weitek p9000 \\norg...</td>\n",
              "      <td>1</td>\n",
              "    </tr>\n",
              "    <tr>\n",
              "      <th>4</th>\n",
              "      <td>from  jonathan mcdowell\\nsubject re shuttle la...</td>\n",
              "      <td>14</td>\n",
              "    </tr>\n",
              "  </tbody>\n",
              "</table>\n",
              "</div>"
            ],
            "text/plain": [
              "                                                text  target\n",
              "0  from  wheres my thing\\nsubject what car is thi...       7\n",
              "1  from  guy kuo\\nsubject si clock poll  final ca...       4\n",
              "2  from  thomas e willis\\nsubject pb questions\\no...       4\n",
              "3  from  joe green\\nsubject re weitek p9000 \\norg...       1\n",
              "4  from  jonathan mcdowell\\nsubject re shuttle la...      14"
            ]
          },
          "metadata": {},
          "execution_count": 13
        }
      ]
    },
    {
      "cell_type": "code",
      "metadata": {
        "id": "1U0KhFR-zEuj",
        "colab": {
          "base_uri": "https://localhost:8080/",
          "height": 203
        },
        "outputId": "ed25c023-6ef9-4565-ecd6-9490d9765bce"
      },
      "source": [
        "df_test.head()"
      ],
      "execution_count": 14,
      "outputs": [
        {
          "output_type": "execute_result",
          "data": {
            "text/html": [
              "<div>\n",
              "<style scoped>\n",
              "    .dataframe tbody tr th:only-of-type {\n",
              "        vertical-align: middle;\n",
              "    }\n",
              "\n",
              "    .dataframe tbody tr th {\n",
              "        vertical-align: top;\n",
              "    }\n",
              "\n",
              "    .dataframe thead th {\n",
              "        text-align: right;\n",
              "    }\n",
              "</style>\n",
              "<table border=\"1\" class=\"dataframe\">\n",
              "  <thead>\n",
              "    <tr style=\"text-align: right;\">\n",
              "      <th></th>\n",
              "      <th>text</th>\n",
              "      <th>target</th>\n",
              "    </tr>\n",
              "  </thead>\n",
              "  <tbody>\n",
              "    <tr>\n",
              "      <th>0</th>\n",
              "      <td>from  neil b gandler\\nsubject need info on 888...</td>\n",
              "      <td>7</td>\n",
              "    </tr>\n",
              "    <tr>\n",
              "      <th>1</th>\n",
              "      <td>from rick miller \\nsubject xface\\norganization...</td>\n",
              "      <td>5</td>\n",
              "    </tr>\n",
              "    <tr>\n",
              "      <th>2</th>\n",
              "      <td>from mathew \\nsubject re strong  weak atheism\\...</td>\n",
              "      <td>0</td>\n",
              "    </tr>\n",
              "    <tr>\n",
              "      <th>3</th>\n",
              "      <td>from  dave bakken\\nsubject re saudi clergy con...</td>\n",
              "      <td>17</td>\n",
              "    </tr>\n",
              "    <tr>\n",
              "      <th>4</th>\n",
              "      <td>from  jon livesey\\nsubject re after 2000 years...</td>\n",
              "      <td>19</td>\n",
              "    </tr>\n",
              "  </tbody>\n",
              "</table>\n",
              "</div>"
            ],
            "text/plain": [
              "                                                text  target\n",
              "0  from  neil b gandler\\nsubject need info on 888...       7\n",
              "1  from rick miller \\nsubject xface\\norganization...       5\n",
              "2  from mathew \\nsubject re strong  weak atheism\\...       0\n",
              "3  from  dave bakken\\nsubject re saudi clergy con...      17\n",
              "4  from  jon livesey\\nsubject re after 2000 years...      19"
            ]
          },
          "metadata": {},
          "execution_count": 14
        }
      ]
    },
    {
      "cell_type": "code",
      "metadata": {
        "id": "Nq4g9KhtzEuj"
      },
      "source": [
        "df[\"text\"] = df[\"text\"].apply(lambda line: line[5:])\n",
        "df_test[\"text\"] = df_test[\"text\"].apply(lambda line: line[5:])"
      ],
      "execution_count": 15,
      "outputs": []
    },
    {
      "cell_type": "code",
      "metadata": {
        "id": "y8aKrH7MzEuj"
      },
      "source": [
        "df[\"text\"] = df[\"text\"].apply(lambda line: line.replace(\"\\n\", \" \"))\n",
        "df_test[\"text\"] = df_test[\"text\"].apply(lambda line: line.replace(\"\\n\", \" \"))"
      ],
      "execution_count": 16,
      "outputs": []
    },
    {
      "cell_type": "code",
      "metadata": {
        "id": "bOtau2XSzEuk",
        "colab": {
          "base_uri": "https://localhost:8080/"
        },
        "outputId": "85ca3dde-baa6-4d22-fefb-cd89909c4475"
      },
      "source": [
        "df[\"text\"]"
      ],
      "execution_count": 17,
      "outputs": [
        {
          "output_type": "execute_result",
          "data": {
            "text/plain": [
              "0         wheres my thing subject what car is this nntp...\n",
              "1         guy kuo subject si clock poll  final call sum...\n",
              "2         thomas e willis subject pb questions organiza...\n",
              "3         joe green subject re weitek p9000  organizati...\n",
              "4         jonathan mcdowell subject re shuttle launch q...\n",
              "                               ...                        \n",
              "11309     jim zisfein  subject re migraines and scans d...\n",
              "11310     subject screen death mac plus512 lines 22 org...\n",
              "11311     will estes subject mounting cpu cooler in ver...\n",
              "11312     steven collins subject re sphere from 4 point...\n",
              "11313     kevin j gunning subject stolen cbr900rr organ...\n",
              "Name: text, Length: 11314, dtype: object"
            ]
          },
          "metadata": {},
          "execution_count": 17
        }
      ]
    },
    {
      "cell_type": "code",
      "metadata": {
        "id": "uS94fXyJzEuk",
        "colab": {
          "base_uri": "https://localhost:8080/"
        },
        "outputId": "fa46c297-046a-47c3-8661-d6c9748f5111"
      },
      "source": [
        "df_test[\"text\"]"
      ],
      "execution_count": 18,
      "outputs": [
        {
          "output_type": "execute_result",
          "data": {
            "text/plain": [
              "0        neil b gandler subject need info on 8889 bonn...\n",
              "1       rick miller  subject xface organization just m...\n",
              "2       mathew  subject re strong  weak atheism organi...\n",
              "3        dave bakken subject re saudi clergy condemns ...\n",
              "4        jon livesey subject re after 2000 years can w...\n",
              "                              ...                        \n",
              "7527     stupendous man subject re temperature of the ...\n",
              "7528     jim smyton subject re monitors  should they b...\n",
              "7529     subject re game length was re braves update o...\n",
              "7530      subject intel chmos 80868088 design kit news...\n",
              "7531     subject re homosexuality issues in christiani...\n",
              "Name: text, Length: 7532, dtype: object"
            ]
          },
          "metadata": {},
          "execution_count": 18
        }
      ]
    },
    {
      "cell_type": "code",
      "metadata": {
        "id": "8-rGtSF1zEuk"
      },
      "source": [
        "def text_process(text):\n",
        "    \"\"\"\n",
        "    1. Remove punctuations\n",
        "    2. Remove stop words\n",
        "    3. Return list of clean text words\n",
        "    \"\"\"\n",
        "    \n",
        "    return [word for word in text.split() if word.lower() not in stopwords.words('english')]"
      ],
      "execution_count": 19,
      "outputs": []
    },
    {
      "cell_type": "code",
      "metadata": {
        "id": "9ncZtFjdzEuk"
      },
      "source": [
        "df[\"text\"] = df[\"text\"].apply(text_process)"
      ],
      "execution_count": 20,
      "outputs": []
    },
    {
      "cell_type": "code",
      "metadata": {
        "id": "752cR_mKzEuk"
      },
      "source": [
        "df_test[\"text\"] = df_test[\"text\"].apply(text_process)"
      ],
      "execution_count": 21,
      "outputs": []
    },
    {
      "cell_type": "code",
      "metadata": {
        "id": "2cHGefPNzEul"
      },
      "source": [
        "def list_to_string(text):\n",
        "    line = \"\"\n",
        "    for word in text:\n",
        "        line += word + \" \"\n",
        "    return line.strip()"
      ],
      "execution_count": 22,
      "outputs": []
    },
    {
      "cell_type": "code",
      "metadata": {
        "id": "ADoPPON-zEul"
      },
      "source": [
        "df[\"text\"] = df[\"text\"].apply(list_to_string)"
      ],
      "execution_count": 23,
      "outputs": []
    },
    {
      "cell_type": "code",
      "metadata": {
        "id": "gkN3WFRPzEul"
      },
      "source": [
        "df_test[\"text\"] = df_test[\"text\"].apply(list_to_string)"
      ],
      "execution_count": 24,
      "outputs": []
    },
    {
      "cell_type": "code",
      "metadata": {
        "id": "KA1Hs4-GzEul",
        "colab": {
          "base_uri": "https://localhost:8080/",
          "height": 203
        },
        "outputId": "146bfa37-402c-4a47-bbe8-a07cb76c1108"
      },
      "source": [
        "df.head()"
      ],
      "execution_count": 25,
      "outputs": [
        {
          "output_type": "execute_result",
          "data": {
            "text/html": [
              "<div>\n",
              "<style scoped>\n",
              "    .dataframe tbody tr th:only-of-type {\n",
              "        vertical-align: middle;\n",
              "    }\n",
              "\n",
              "    .dataframe tbody tr th {\n",
              "        vertical-align: top;\n",
              "    }\n",
              "\n",
              "    .dataframe thead th {\n",
              "        text-align: right;\n",
              "    }\n",
              "</style>\n",
              "<table border=\"1\" class=\"dataframe\">\n",
              "  <thead>\n",
              "    <tr style=\"text-align: right;\">\n",
              "      <th></th>\n",
              "      <th>text</th>\n",
              "      <th>target</th>\n",
              "    </tr>\n",
              "  </thead>\n",
              "  <tbody>\n",
              "    <tr>\n",
              "      <th>0</th>\n",
              "      <td>wheres thing subject car nntppostinghost rac3w...</td>\n",
              "      <td>7</td>\n",
              "    </tr>\n",
              "    <tr>\n",
              "      <th>1</th>\n",
              "      <td>guy kuo subject si clock poll final call summa...</td>\n",
              "      <td>4</td>\n",
              "    </tr>\n",
              "    <tr>\n",
              "      <th>2</th>\n",
              "      <td>thomas e willis subject pb questions organizat...</td>\n",
              "      <td>4</td>\n",
              "    </tr>\n",
              "    <tr>\n",
              "      <th>3</th>\n",
              "      <td>joe green subject weitek p9000 organization ha...</td>\n",
              "      <td>1</td>\n",
              "    </tr>\n",
              "    <tr>\n",
              "      <th>4</th>\n",
              "      <td>jonathan mcdowell subject shuttle launch quest...</td>\n",
              "      <td>14</td>\n",
              "    </tr>\n",
              "  </tbody>\n",
              "</table>\n",
              "</div>"
            ],
            "text/plain": [
              "                                                text  target\n",
              "0  wheres thing subject car nntppostinghost rac3w...       7\n",
              "1  guy kuo subject si clock poll final call summa...       4\n",
              "2  thomas e willis subject pb questions organizat...       4\n",
              "3  joe green subject weitek p9000 organization ha...       1\n",
              "4  jonathan mcdowell subject shuttle launch quest...      14"
            ]
          },
          "metadata": {},
          "execution_count": 25
        }
      ]
    },
    {
      "cell_type": "code",
      "metadata": {
        "id": "FtFv6-mmzEul",
        "colab": {
          "base_uri": "https://localhost:8080/",
          "height": 203
        },
        "outputId": "b9da48fc-edb5-48af-c7df-7563d767cb6f"
      },
      "source": [
        "df_test.head()"
      ],
      "execution_count": 26,
      "outputs": [
        {
          "output_type": "execute_result",
          "data": {
            "text/html": [
              "<div>\n",
              "<style scoped>\n",
              "    .dataframe tbody tr th:only-of-type {\n",
              "        vertical-align: middle;\n",
              "    }\n",
              "\n",
              "    .dataframe tbody tr th {\n",
              "        vertical-align: top;\n",
              "    }\n",
              "\n",
              "    .dataframe thead th {\n",
              "        text-align: right;\n",
              "    }\n",
              "</style>\n",
              "<table border=\"1\" class=\"dataframe\">\n",
              "  <thead>\n",
              "    <tr style=\"text-align: right;\">\n",
              "      <th></th>\n",
              "      <th>text</th>\n",
              "      <th>target</th>\n",
              "    </tr>\n",
              "  </thead>\n",
              "  <tbody>\n",
              "    <tr>\n",
              "      <th>0</th>\n",
              "      <td>neil b gandler subject need info 8889 bonnevil...</td>\n",
              "      <td>7</td>\n",
              "    </tr>\n",
              "    <tr>\n",
              "      <th>1</th>\n",
              "      <td>rick miller subject xface organization lines 1...</td>\n",
              "      <td>5</td>\n",
              "    </tr>\n",
              "    <tr>\n",
              "      <th>2</th>\n",
              "      <td>mathew subject strong weak atheism organizatio...</td>\n",
              "      <td>0</td>\n",
              "    </tr>\n",
              "    <tr>\n",
              "      <th>3</th>\n",
              "      <td>dave bakken subject saudi clergy condemns debu...</td>\n",
              "      <td>17</td>\n",
              "    </tr>\n",
              "    <tr>\n",
              "      <th>4</th>\n",
              "      <td>jon livesey subject 2000 years say christian m...</td>\n",
              "      <td>19</td>\n",
              "    </tr>\n",
              "  </tbody>\n",
              "</table>\n",
              "</div>"
            ],
            "text/plain": [
              "                                                text  target\n",
              "0  neil b gandler subject need info 8889 bonnevil...       7\n",
              "1  rick miller subject xface organization lines 1...       5\n",
              "2  mathew subject strong weak atheism organizatio...       0\n",
              "3  dave bakken subject saudi clergy condemns debu...      17\n",
              "4  jon livesey subject 2000 years say christian m...      19"
            ]
          },
          "metadata": {},
          "execution_count": 26
        }
      ]
    },
    {
      "cell_type": "code",
      "metadata": {
        "id": "O3BdsGvxzEum"
      },
      "source": [
        "from sklearn.feature_extraction.text import CountVectorizer"
      ],
      "execution_count": 27,
      "outputs": []
    },
    {
      "cell_type": "code",
      "metadata": {
        "id": "SmVOrCSszEum"
      },
      "source": [
        "bow_transformer = CountVectorizer(analyzer=text_process).fit(df[\"text\"])"
      ],
      "execution_count": 28,
      "outputs": []
    },
    {
      "cell_type": "code",
      "metadata": {
        "id": "uQZFgqfJzEum"
      },
      "source": [
        "text_bow = bow_transformer.transform(df[\"text\"])"
      ],
      "execution_count": 29,
      "outputs": []
    },
    {
      "cell_type": "code",
      "metadata": {
        "id": "zvTdrcOMzEum",
        "colab": {
          "base_uri": "https://localhost:8080/"
        },
        "outputId": "69597ee8-4084-47c9-bce6-e370aad5ef78"
      },
      "source": [
        "print(text_bow.shape)"
      ],
      "execution_count": 30,
      "outputs": [
        {
          "output_type": "stream",
          "name": "stdout",
          "text": [
            "(11314, 116709)\n"
          ]
        }
      ]
    },
    {
      "cell_type": "code",
      "metadata": {
        "id": "NfaUhlHNzEum",
        "colab": {
          "base_uri": "https://localhost:8080/"
        },
        "outputId": "24def772-992e-4aba-a9a1-32539f8b8118"
      },
      "source": [
        "text_bow.nnz"
      ],
      "execution_count": 31,
      "outputs": [
        {
          "output_type": "execute_result",
          "data": {
            "text/plain": [
              "1279237"
            ]
          },
          "metadata": {},
          "execution_count": 31
        }
      ]
    },
    {
      "cell_type": "code",
      "metadata": {
        "id": "SiXY1pLqzEum"
      },
      "source": [
        "test_bow = bow_transformer.transform(df_test[\"text\"])"
      ],
      "execution_count": 32,
      "outputs": []
    },
    {
      "cell_type": "code",
      "metadata": {
        "id": "_Cd49uP1zEun",
        "colab": {
          "base_uri": "https://localhost:8080/"
        },
        "outputId": "3aefd2d6-ce73-48ab-a20d-6f6d37f6b739"
      },
      "source": [
        "print(test_bow.shape)"
      ],
      "execution_count": 33,
      "outputs": [
        {
          "output_type": "stream",
          "name": "stdout",
          "text": [
            "(7532, 116709)\n"
          ]
        }
      ]
    },
    {
      "cell_type": "code",
      "metadata": {
        "id": "h40xRRZjzEun",
        "colab": {
          "base_uri": "https://localhost:8080/"
        },
        "outputId": "25527484-59d5-4c21-b356-c0c884fe0f1a"
      },
      "source": [
        "test_bow.nnz"
      ],
      "execution_count": 34,
      "outputs": [
        {
          "output_type": "execute_result",
          "data": {
            "text/plain": [
              "785399"
            ]
          },
          "metadata": {},
          "execution_count": 34
        }
      ]
    },
    {
      "cell_type": "code",
      "metadata": {
        "id": "dPOTpaXizEun"
      },
      "source": [
        "from sklearn.feature_extraction.text import TfidfTransformer"
      ],
      "execution_count": 35,
      "outputs": []
    },
    {
      "cell_type": "code",
      "metadata": {
        "id": "aro0KGGnzEun"
      },
      "source": [
        "tfidf_transformer = TfidfTransformer().fit(text_bow)"
      ],
      "execution_count": 36,
      "outputs": []
    },
    {
      "cell_type": "code",
      "metadata": {
        "id": "M1u9VJr0zEun"
      },
      "source": [
        "text_tfidf = tfidf_transformer.transform(text_bow)"
      ],
      "execution_count": 37,
      "outputs": []
    },
    {
      "cell_type": "code",
      "metadata": {
        "id": "xsvxt5rbzEun"
      },
      "source": [
        "test_tfidf = tfidf_transformer.transform(test_bow)"
      ],
      "execution_count": 38,
      "outputs": []
    },
    {
      "cell_type": "code",
      "metadata": {
        "id": "zvC33FP4zEun"
      },
      "source": [
        "from sklearn.naive_bayes import MultinomialNB"
      ],
      "execution_count": 39,
      "outputs": []
    },
    {
      "cell_type": "code",
      "metadata": {
        "id": "PVUjafFlzEuo"
      },
      "source": [
        "nb_model = MultinomialNB().fit(text_tfidf, df[\"target\"])"
      ],
      "execution_count": 40,
      "outputs": []
    },
    {
      "cell_type": "code",
      "metadata": {
        "id": "RKnaZAr3zEuo"
      },
      "source": [
        "all_pred_nb = nb_model.predict(test_tfidf)"
      ],
      "execution_count": 41,
      "outputs": []
    },
    {
      "cell_type": "code",
      "metadata": {
        "id": "Ldwve5GvzEuo"
      },
      "source": [
        "from sklearn.neighbors import NearestCentroid"
      ],
      "execution_count": 42,
      "outputs": []
    },
    {
      "cell_type": "code",
      "metadata": {
        "id": "YczB_GKIzEuo"
      },
      "source": [
        "rocchio_model = NearestCentroid().fit(text_tfidf, df[\"target\"])"
      ],
      "execution_count": 43,
      "outputs": []
    },
    {
      "cell_type": "code",
      "metadata": {
        "id": "7Guhpk-PzEuo"
      },
      "source": [
        "all_pred_rc = rocchio_model.predict(test_tfidf)"
      ],
      "execution_count": 44,
      "outputs": []
    },
    {
      "cell_type": "code",
      "metadata": {
        "id": "bV_LIGSMzEuo"
      },
      "source": [
        "from sklearn.neighbors import KNeighborsClassifier"
      ],
      "execution_count": 45,
      "outputs": []
    },
    {
      "cell_type": "code",
      "metadata": {
        "id": "L36Fn_YYzEuo"
      },
      "source": [
        "knn_model = KNeighborsClassifier().fit(text_tfidf, df[\"target\"])"
      ],
      "execution_count": 46,
      "outputs": []
    },
    {
      "cell_type": "code",
      "metadata": {
        "id": "pnrSN4X9zEuo"
      },
      "source": [
        "all_pred_knn = knn_model.predict(test_tfidf)"
      ],
      "execution_count": 47,
      "outputs": []
    },
    {
      "cell_type": "code",
      "metadata": {
        "id": "NUCp6XobzEuo"
      },
      "source": [
        "from sklearn.metrics import f1_score, precision_score, recall_score"
      ],
      "execution_count": 48,
      "outputs": []
    },
    {
      "cell_type": "code",
      "metadata": {
        "colab": {
          "base_uri": "https://localhost:8080/"
        },
        "id": "vtftusclOl_1",
        "outputId": "1146c6fe-e27d-4b91-9b86-c8c23e994990"
      },
      "source": [
        "print(\"Precision score for Naive Bayse classifier\")\n",
        "precision_score(df_test[\"target\"], all_pred_nb, average='macro')"
      ],
      "execution_count": 49,
      "outputs": [
        {
          "output_type": "stream",
          "name": "stdout",
          "text": [
            "Precision score for Naive Bayse classifier\n"
          ]
        },
        {
          "output_type": "execute_result",
          "data": {
            "text/plain": [
              "0.8440664619833106"
            ]
          },
          "metadata": {},
          "execution_count": 49
        }
      ]
    },
    {
      "cell_type": "code",
      "metadata": {
        "colab": {
          "base_uri": "https://localhost:8080/"
        },
        "id": "NsBXlsueOyzS",
        "outputId": "c5ec255d-cd3f-4314-dff4-be58c4a2a3f8"
      },
      "source": [
        "print(\"Recall score for Naive Bayse classifier\")\n",
        "recall_score(df_test[\"target\"], all_pred_nb, average='macro')"
      ],
      "execution_count": 50,
      "outputs": [
        {
          "output_type": "stream",
          "name": "stdout",
          "text": [
            "Recall score for Naive Bayse classifier\n"
          ]
        },
        {
          "output_type": "execute_result",
          "data": {
            "text/plain": [
              "0.7927306029440622"
            ]
          },
          "metadata": {},
          "execution_count": 50
        }
      ]
    },
    {
      "cell_type": "code",
      "metadata": {
        "colab": {
          "base_uri": "https://localhost:8080/"
        },
        "id": "HT-o8amAOlLV",
        "outputId": "2341b03e-317a-41e7-d591-2c490e9f7f86"
      },
      "source": [
        "print(\"f1 score for Naive Bayse classifier\")\n",
        "f1_score(df_test[\"target\"], all_pred_nb, average='macro')"
      ],
      "execution_count": 51,
      "outputs": [
        {
          "output_type": "stream",
          "name": "stdout",
          "text": [
            "f1 score for Naive Bayse classifier\n"
          ]
        },
        {
          "output_type": "execute_result",
          "data": {
            "text/plain": [
              "0.7887799706600179"
            ]
          },
          "metadata": {},
          "execution_count": 51
        }
      ]
    },
    {
      "cell_type": "code",
      "metadata": {
        "colab": {
          "base_uri": "https://localhost:8080/"
        },
        "id": "fIm3LgX2PNxA",
        "outputId": "f575200e-36af-4ece-a097-d474fb8a88cf"
      },
      "source": [
        "print(\"Precision score for Rocchio classifier\")\n",
        "precision_score(df_test[\"target\"], all_pred_rc, average='macro')"
      ],
      "execution_count": 52,
      "outputs": [
        {
          "output_type": "stream",
          "name": "stdout",
          "text": [
            "Precision score for Rocchio classifier\n"
          ]
        },
        {
          "output_type": "execute_result",
          "data": {
            "text/plain": [
              "0.7882382589812567"
            ]
          },
          "metadata": {},
          "execution_count": 52
        }
      ]
    },
    {
      "cell_type": "code",
      "metadata": {
        "colab": {
          "base_uri": "https://localhost:8080/"
        },
        "id": "g_MysvhZPON7",
        "outputId": "58739faf-dffe-4783-9942-e7b11e434b9d"
      },
      "source": [
        "print(\"Recall score for Rocchioclassifier\")\n",
        "recall_score(df_test[\"target\"], all_pred_rc, average='macro')"
      ],
      "execution_count": 53,
      "outputs": [
        {
          "output_type": "stream",
          "name": "stdout",
          "text": [
            "Recall score for Rocchioclassifier\n"
          ]
        },
        {
          "output_type": "execute_result",
          "data": {
            "text/plain": [
              "0.7467320574290677"
            ]
          },
          "metadata": {},
          "execution_count": 53
        }
      ]
    },
    {
      "cell_type": "code",
      "metadata": {
        "colab": {
          "base_uri": "https://localhost:8080/"
        },
        "id": "VQisia9TzEup",
        "outputId": "db677cb3-3711-4555-c3b6-84bcd9f06c4b"
      },
      "source": [
        "print(\"f1 score for Rocchio classifier\")\n",
        "f1_score(df_test[\"target\"], all_pred_rc, average='macro')"
      ],
      "execution_count": 54,
      "outputs": [
        {
          "output_type": "stream",
          "name": "stdout",
          "text": [
            "f1 score for Rocchio classifier\n"
          ]
        },
        {
          "output_type": "execute_result",
          "data": {
            "text/plain": [
              "0.7572359970423328"
            ]
          },
          "metadata": {},
          "execution_count": 54
        }
      ]
    },
    {
      "cell_type": "code",
      "metadata": {
        "colab": {
          "base_uri": "https://localhost:8080/"
        },
        "id": "ePHxB0ePQLAo",
        "outputId": "a8453e75-dd70-4c18-ee0e-49a0b488f11f"
      },
      "source": [
        "print(\"Precision score for KNN classifier\")\n",
        "precision_score(df_test[\"target\"], all_pred_knn, average='macro')"
      ],
      "execution_count": 55,
      "outputs": [
        {
          "output_type": "stream",
          "name": "stdout",
          "text": [
            "Precision score for KNN classifier\n"
          ]
        },
        {
          "output_type": "execute_result",
          "data": {
            "text/plain": [
              "0.7326106692490887"
            ]
          },
          "metadata": {},
          "execution_count": 55
        }
      ]
    },
    {
      "cell_type": "code",
      "metadata": {
        "colab": {
          "base_uri": "https://localhost:8080/"
        },
        "id": "7cJfdQffQLRn",
        "outputId": "fcb3d892-bd58-4bda-eada-8be34fb04238"
      },
      "source": [
        "print(\"Recall score for Rocchioclassifier\")\n",
        "recall_score(df_test[\"target\"], all_pred_knn, average='macro')"
      ],
      "execution_count": 56,
      "outputs": [
        {
          "output_type": "stream",
          "name": "stdout",
          "text": [
            "Recall score for Rocchioclassifier\n"
          ]
        },
        {
          "output_type": "execute_result",
          "data": {
            "text/plain": [
              "0.7271830853441681"
            ]
          },
          "metadata": {},
          "execution_count": 56
        }
      ]
    },
    {
      "cell_type": "code",
      "metadata": {
        "colab": {
          "base_uri": "https://localhost:8080/"
        },
        "id": "HBQxkDd1zEup",
        "outputId": "ea9ef13a-8ed9-46f6-a6fb-c04bfe0a2ea1"
      },
      "source": [
        "print(\"f1 score for KNN classifier\")\n",
        "f1_score(df_test[\"target\"], all_pred_knn, average='macro')"
      ],
      "execution_count": 57,
      "outputs": [
        {
          "output_type": "stream",
          "name": "stdout",
          "text": [
            "f1 score for KNN classifier\n"
          ]
        },
        {
          "output_type": "execute_result",
          "data": {
            "text/plain": [
              "0.7268841179177297"
            ]
          },
          "metadata": {},
          "execution_count": 57
        }
      ]
    },
    {
      "cell_type": "code",
      "metadata": {
        "id": "QmrglUCNzEup",
        "colab": {
          "base_uri": "https://localhost:8080/",
          "height": 392
        },
        "outputId": "ef452544-6534-404a-e69b-cbe77eb49a4a"
      },
      "source": [
        "import seaborn as sns\n",
        "import matplotlib.pyplot as plt\n",
        "\n",
        "population=[0.844, 0.732, 0.788]\n",
        "cv_metrics = pd.DataFrame({\"Naive-Bayes\": 0.7887799706600179,\n",
        "                           \"Rocchio\": 0.7572359970423328,\n",
        "                          \"KNN\": 0.7268841179177297\n",
        "                          },\n",
        "                         index=[0])\n",
        "plt.figure(figsize=(8, 6))\n",
        "splot=sns.barplot(data=cv_metrics)\n",
        "for p in splot.patches:\n",
        "    splot.annotate(format(p.get_height(), '.4f'), \n",
        "                   (p.get_x() + p.get_width() / 2., p.get_height()), \n",
        "                   ha = 'center', va = 'center', \n",
        "                   xytext = (0, 9), \n",
        "                   textcoords = 'offset points')\n",
        "plt.xlabel(\"F1-scores\", size=14);\n",
        "\n"
      ],
      "execution_count": 58,
      "outputs": [
        {
          "output_type": "display_data",
          "data": {
            "image/png": "[encoded data removed]",
            "text/plain": [
              "<Figure size 576x432 with 1 Axes>"
            ]
          },
          "metadata": {
            "needs_background": "light"
          }
        }
      ]
    },
    {
      "cell_type": "code",
      "metadata": {
        "id": "4jBLlKAjT6qe"
      },
      "source": [
        ""
      ],
      "execution_count": null,
      "outputs": []
    }
  ]
}