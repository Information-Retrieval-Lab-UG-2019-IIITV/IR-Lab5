{
  "nbformat": 4,
  "nbformat_minor": 0,
  "metadata": {
    "kernelspec": {
      "display_name": "Python 3",
      "language": "python",
      "name": "python3"
    },
    "language_info": {
      "codemirror_mode": {
        "name": "ipython",
        "version": 3
      },
      "file_extension": ".py",
      "mimetype": "text/x-python",
      "name": "python",
      "nbconvert_exporter": "python",
      "pygments_lexer": "ipython3",
      "version": "3.8.8"
    },
    "colab": {
      "name": "Lab 5.ipynb",
      "provenance": [],
      "collapsed_sections": []
    }
  },
  "cells": [
    {
      "cell_type": "code",
      "metadata": {
        "id": "d4l_pzvWVVso"
      },
      "source": [
        "import numpy as np\n",
        "import pandas as pd\n",
        "import string\n",
        "import nltk\n",
        "import re\n",
        "from nltk.corpus import stopwords\n",
        "from sklearn.feature_extraction.text import TfidfVectorizer"
      ],
      "execution_count": 1,
      "outputs": []
    },
    {
      "cell_type": "code",
      "metadata": {
        "id": "KR45w3OBVVsr"
      },
      "source": [
        "from sklearn.datasets import fetch_20newsgroups"
      ],
      "execution_count": 2,
      "outputs": []
    },
    {
      "cell_type": "code",
      "metadata": {
        "colab": {
          "base_uri": "https://localhost:8080/"
        },
        "id": "5vKnmJvaWBX4",
        "outputId": "e749569a-7b9e-46e3-b1c0-0e9959f1758c"
      },
      "source": [
        "nltk.download('stopwords')"
      ],
      "execution_count": 3,
      "outputs": [
        {
          "output_type": "stream",
          "name": "stdout",
          "text": [
            "[nltk_data] Downloading package stopwords to /root/nltk_data...\n",
            "[nltk_data]   Package stopwords is already up-to-date!\n"
          ]
        },
        {
          "output_type": "execute_result",
          "data": {
            "text/plain": [
              "True"
            ]
          },
          "metadata": {},
          "execution_count": 3
        }
      ]
    },
    {
      "cell_type": "code",
      "metadata": {
        "id": "uhd6jcrPVVsr"
      },
      "source": [
        "categories = fetch_20newsgroups().target_names"
      ],
      "execution_count": 4,
      "outputs": []
    },
    {
      "cell_type": "code",
      "metadata": {
        "id": "oO3M-pGuVVsr"
      },
      "source": [
        "from sklearn.datasets import fetch_20newsgroups\n",
        "X_train, y_train = fetch_20newsgroups(subset='train', return_X_y=True)\n",
        "X_test, y_test = fetch_20newsgroups(subset='test', return_X_y=True)"
      ],
      "execution_count": 5,
      "outputs": []
    },
    {
      "cell_type": "code",
      "metadata": {
        "colab": {
          "base_uri": "https://localhost:8080/"
        },
        "id": "ukF2UCJwVVss",
        "outputId": "46a4d9cb-699c-482c-8f8d-8519f85a961d"
      },
      "source": [
        "df = pd.DataFrame(X_train, columns=[\"text\"])\n",
        "df[\"target\"] = y_train\n",
        "print(df.head())\n",
        "\n",
        "df_test = pd.DataFrame(X_test, columns=[\"text\"])\n",
        "df_test[\"target\"] = y_test\n",
        "print(df_test.head())"
      ],
      "execution_count": 6,
      "outputs": [
        {
          "output_type": "stream",
          "name": "stdout",
          "text": [
            "                                                text  target\n",
            "0  From: lerxst@wam.umd.edu (where's my thing)\\nS...       7\n",
            "1  From: guykuo@carson.u.washington.edu (Guy Kuo)...       4\n",
            "2  From: twillis@ec.ecn.purdue.edu (Thomas E Will...       4\n",
            "3  From: jgreen@amber (Joe Green)\\nSubject: Re: W...       1\n",
            "4  From: jcm@head-cfa.harvard.edu (Jonathan McDow...      14\n",
            "                                                text  target\n",
            "0  From: v064mb9k@ubvmsd.cc.buffalo.edu (NEIL B. ...       7\n",
            "1  From: Rick Miller <rick@ee.uwm.edu>\\nSubject: ...       5\n",
            "2  From: mathew <mathew@mantis.co.uk>\\nSubject: R...       0\n",
            "3  From: bakken@cs.arizona.edu (Dave Bakken)\\nSub...      17\n",
            "4  From: livesey@solntze.wpd.sgi.com (Jon Livesey...      19\n"
          ]
        }
      ]
    },
    {
      "cell_type": "code",
      "metadata": {
        "id": "bMVwEA5jVVss"
      },
      "source": [
        "stop = stopwords.words('english')"
      ],
      "execution_count": 7,
      "outputs": []
    },
    {
      "cell_type": "code",
      "metadata": {
        "id": "NWuGrBGmVVst"
      },
      "source": [
        "stop_words = list(set(stopwords.words(\"english\")))"
      ],
      "execution_count": 8,
      "outputs": []
    },
    {
      "cell_type": "code",
      "metadata": {
        "id": "rudcohmUVVst"
      },
      "source": [
        "def preprocess(string):\n",
        "    processed_str = re.sub(r\"\\S+@\\S+\", '', string) #Remove Email\n",
        "    processed_str = re.sub(r\"\\S+.co\\S+\", '', processed_str) #Remove Website\n",
        "    processed_str = re.sub(r\"\\S+.ed\\S+\", '', processed_str) #Remove website\n",
        "    processed_str = re.sub(r\"\\S+.in\\S+\", '', processed_str) #Remove website\n",
        "    processed_str = re.sub(r\"\\S+.edu\\S+\", '', processed_str) #Remove website\n",
        "    processed_str = re.sub(r\"[0-9]+\", '', processed_str) #Remove numbers\n",
        "    return processed_str"
      ],
      "execution_count": 9,
      "outputs": []
    },
    {
      "cell_type": "code",
      "metadata": {
        "id": "jbDdmuJGVVsu"
      },
      "source": [
        "X_train = df[\"text\"].apply(preprocess)\n",
        "X_test  = df_test[\"text\"].apply(preprocess)"
      ],
      "execution_count": 10,
      "outputs": []
    },
    {
      "cell_type": "code",
      "metadata": {
        "id": "90wU-8LYVVsv"
      },
      "source": [
        "tfidf_vectorizer = TfidfVectorizer(lowercase=True, \n",
        "                        stop_words=stop_words, \n",
        "                       )\n",
        "\n",
        "X_train_tfidf = tfidf_vectorizer.fit_transform(X_train)\n",
        "X_test_tfidf = tfidf_vectorizer.transform(X_test)"
      ],
      "execution_count": 11,
      "outputs": []
    },
    {
      "cell_type": "code",
      "metadata": {
        "colab": {
          "base_uri": "https://localhost:8080/"
        },
        "id": "AamC78lVVVsw",
        "outputId": "7c1dde0a-d2ed-42d2-f61f-5f3a13126dba"
      },
      "source": [
        "X_train_tfidf.shape"
      ],
      "execution_count": 12,
      "outputs": [
        {
          "output_type": "execute_result",
          "data": {
            "text/plain": [
              "(11314, 73024)"
            ]
          },
          "metadata": {},
          "execution_count": 12
        }
      ]
    },
    {
      "cell_type": "code",
      "metadata": {
        "colab": {
          "base_uri": "https://localhost:8080/"
        },
        "id": "HiJmyGRSVVsw",
        "outputId": "69ce4ed8-3d1a-41ec-b0c9-73a40c480232"
      },
      "source": [
        "X_test_tfidf.shape"
      ],
      "execution_count": 13,
      "outputs": [
        {
          "output_type": "execute_result",
          "data": {
            "text/plain": [
              "(7532, 73024)"
            ]
          },
          "metadata": {},
          "execution_count": 13
        }
      ]
    },
    {
      "cell_type": "code",
      "metadata": {
        "colab": {
          "base_uri": "https://localhost:8080/"
        },
        "id": "EIbVKckMVVsw",
        "outputId": "231eb291-dde6-47aa-a558-7fee1910448c"
      },
      "source": [
        "X_train_tfidf.nnz"
      ],
      "execution_count": 14,
      "outputs": [
        {
          "output_type": "execute_result",
          "data": {
            "text/plain": [
              "1017008"
            ]
          },
          "metadata": {},
          "execution_count": 14
        }
      ]
    },
    {
      "cell_type": "code",
      "metadata": {
        "colab": {
          "base_uri": "https://localhost:8080/"
        },
        "id": "pVAOH4nXVVsx",
        "outputId": "dc7d0377-b803-4209-fd5f-0a82ffeaf664"
      },
      "source": [
        "X_test_tfidf.nnz"
      ],
      "execution_count": 15,
      "outputs": [
        {
          "output_type": "execute_result",
          "data": {
            "text/plain": [
              "631911"
            ]
          },
          "metadata": {},
          "execution_count": 15
        }
      ]
    },
    {
      "cell_type": "code",
      "metadata": {
        "id": "IfoRmv6JVVsx"
      },
      "source": [
        "from sklearn.naive_bayes import MultinomialNB"
      ],
      "execution_count": 16,
      "outputs": []
    },
    {
      "cell_type": "code",
      "metadata": {
        "id": "V6OCjbHqVVsx"
      },
      "source": [
        "nb_model = MultinomialNB().fit(X_train_tfidf, df[\"target\"])"
      ],
      "execution_count": 17,
      "outputs": []
    },
    {
      "cell_type": "code",
      "metadata": {
        "id": "86VX_A5YVVsx"
      },
      "source": [
        "all_pred_nb = nb_model.predict(X_test_tfidf)"
      ],
      "execution_count": 18,
      "outputs": []
    },
    {
      "cell_type": "code",
      "metadata": {
        "id": "-IUP-FGTVVsx"
      },
      "source": [
        "from sklearn.neighbors import NearestCentroid"
      ],
      "execution_count": 19,
      "outputs": []
    },
    {
      "cell_type": "code",
      "metadata": {
        "id": "jeNY3TDmVVsz"
      },
      "source": [
        "rocchio_model = NearestCentroid().fit(X_train_tfidf, df[\"target\"])"
      ],
      "execution_count": 20,
      "outputs": []
    },
    {
      "cell_type": "code",
      "metadata": {
        "id": "CYyCHTooVVsz"
      },
      "source": [
        "all_pred_rc = rocchio_model.predict(X_test_tfidf)"
      ],
      "execution_count": 21,
      "outputs": []
    },
    {
      "cell_type": "code",
      "metadata": {
        "id": "s1mZk6ZTVVsz"
      },
      "source": [
        "from sklearn.neighbors import KNeighborsClassifier"
      ],
      "execution_count": 22,
      "outputs": []
    },
    {
      "cell_type": "code",
      "metadata": {
        "id": "IdX7-v7zVVs0"
      },
      "source": [
        "knn_model = KNeighborsClassifier().fit(X_train_tfidf, df[\"target\"])"
      ],
      "execution_count": 23,
      "outputs": []
    },
    {
      "cell_type": "code",
      "metadata": {
        "id": "R89IHPQuVVs0"
      },
      "source": [
        "all_pred_knn = knn_model.predict(X_test_tfidf)"
      ],
      "execution_count": 24,
      "outputs": []
    },
    {
      "cell_type": "code",
      "metadata": {
        "id": "SxkBTXl9VVs0"
      },
      "source": [
        "from sklearn.metrics import f1_score, recall_score, precision_score"
      ],
      "execution_count": 25,
      "outputs": []
    },
    {
      "cell_type": "code",
      "metadata": {
        "colab": {
          "base_uri": "https://localhost:8080/"
        },
        "id": "lZgBKiRRVVs0",
        "outputId": "4ec783b8-04db-45a0-f2d5-9acb7737906f"
      },
      "source": [
        "print(\"precision score of Naive Bayse classifier\")\n",
        "precision_score(df_test[\"target\"], all_pred_nb, average='macro')"
      ],
      "execution_count": 26,
      "outputs": [
        {
          "output_type": "stream",
          "name": "stdout",
          "text": [
            "precision score of Naive Bayse classifier\n"
          ]
        },
        {
          "output_type": "execute_result",
          "data": {
            "text/plain": [
              "0.8363432540126308"
            ]
          },
          "metadata": {},
          "execution_count": 26
        }
      ]
    },
    {
      "cell_type": "code",
      "metadata": {
        "colab": {
          "base_uri": "https://localhost:8080/"
        },
        "id": "CDuXDbKoVVs0",
        "outputId": "9d60ddf8-788c-45f2-f646-153fac650bca"
      },
      "source": [
        "print(\"recall score of Naive Bayse classifier\")\n",
        "recall_score(df_test[\"target\"], all_pred_nb, average='macro')"
      ],
      "execution_count": 27,
      "outputs": [
        {
          "output_type": "stream",
          "name": "stdout",
          "text": [
            "recall score of Naive Bayse classifier\n"
          ]
        },
        {
          "output_type": "execute_result",
          "data": {
            "text/plain": [
              "0.7868466879271618"
            ]
          },
          "metadata": {},
          "execution_count": 27
        }
      ]
    },
    {
      "cell_type": "code",
      "metadata": {
        "colab": {
          "base_uri": "https://localhost:8080/"
        },
        "id": "kIp-uOeOVVs1",
        "outputId": "361be161-d8ad-4325-9794-57f7fe3abfb6"
      },
      "source": [
        "print(\"f1 score for Naive Bayse classifier\")\n",
        "f1_score(df_test[\"target\"], all_pred_nb, average='macro')"
      ],
      "execution_count": 28,
      "outputs": [
        {
          "output_type": "stream",
          "name": "stdout",
          "text": [
            "f1 score for Naive Bayse classifier\n"
          ]
        },
        {
          "output_type": "execute_result",
          "data": {
            "text/plain": [
              "0.7820671046113149"
            ]
          },
          "metadata": {},
          "execution_count": 28
        }
      ]
    },
    {
      "cell_type": "code",
      "metadata": {
        "colab": {
          "base_uri": "https://localhost:8080/"
        },
        "id": "BOWezINKVVs1",
        "outputId": "5704e128-4dfb-4cf6-fb92-a006c60c8f21"
      },
      "source": [
        "print(\"precision score of Rocchio classifier\")\n",
        "precision_score(df_test[\"target\"], all_pred_rc, average='macro')"
      ],
      "execution_count": 29,
      "outputs": [
        {
          "output_type": "stream",
          "name": "stdout",
          "text": [
            "precision score of Rocchio classifier\n"
          ]
        },
        {
          "output_type": "execute_result",
          "data": {
            "text/plain": [
              "0.7713099423425411"
            ]
          },
          "metadata": {},
          "execution_count": 29
        }
      ]
    },
    {
      "cell_type": "code",
      "metadata": {
        "colab": {
          "base_uri": "https://localhost:8080/"
        },
        "id": "wx-GJECPVVs1",
        "outputId": "43fa7fb6-9fbe-46e8-91d0-38be31245950"
      },
      "source": [
        "print(\"recall score of Rocchio classifier\")\n",
        "recall_score(df_test[\"target\"], all_pred_rc, average='macro')"
      ],
      "execution_count": 30,
      "outputs": [
        {
          "output_type": "stream",
          "name": "stdout",
          "text": [
            "recall score of Rocchio classifier\n"
          ]
        },
        {
          "output_type": "execute_result",
          "data": {
            "text/plain": [
              "0.7248977059596903"
            ]
          },
          "metadata": {},
          "execution_count": 30
        }
      ]
    },
    {
      "cell_type": "code",
      "metadata": {
        "id": "EPWnsbUvVVs1",
        "colab": {
          "base_uri": "https://localhost:8080/"
        },
        "outputId": "54b27a94-d7ec-42f2-9728-275cb8740af5"
      },
      "source": [
        "print(\"f1 score for Rocchio classifier\")\n",
        "f1_score(df_test[\"target\"], all_pred_rc, average='macro')"
      ],
      "execution_count": 31,
      "outputs": [
        {
          "output_type": "stream",
          "name": "stdout",
          "text": [
            "f1 score for Rocchio classifier\n"
          ]
        },
        {
          "output_type": "execute_result",
          "data": {
            "text/plain": [
              "0.7366037643936172"
            ]
          },
          "metadata": {},
          "execution_count": 31
        }
      ]
    },
    {
      "cell_type": "code",
      "metadata": {
        "id": "AdIk0cyTVVs1",
        "colab": {
          "base_uri": "https://localhost:8080/"
        },
        "outputId": "4c0ca188-e5da-4b95-8602-fdda0ca79819"
      },
      "source": [
        "print(\"precision score of KNN classifier\")\n",
        "precision_score(df_test[\"target\"], all_pred_knn, average='macro')"
      ],
      "execution_count": 32,
      "outputs": [
        {
          "output_type": "stream",
          "name": "stdout",
          "text": [
            "precision score of KNN classifier\n"
          ]
        },
        {
          "output_type": "execute_result",
          "data": {
            "text/plain": [
              "0.7109115523871894"
            ]
          },
          "metadata": {},
          "execution_count": 32
        }
      ]
    },
    {
      "cell_type": "code",
      "metadata": {
        "id": "HsK5l-EZVVs1",
        "colab": {
          "base_uri": "https://localhost:8080/"
        },
        "outputId": "a6166014-4d31-42c3-96d8-351f074bc575"
      },
      "source": [
        "print(\"recall score of KNN classifier\")\n",
        "recall_score(df_test[\"target\"], all_pred_knn, average='macro')"
      ],
      "execution_count": 33,
      "outputs": [
        {
          "output_type": "stream",
          "name": "stdout",
          "text": [
            "recall score of KNN classifier\n"
          ]
        },
        {
          "output_type": "execute_result",
          "data": {
            "text/plain": [
              "0.7017206408756015"
            ]
          },
          "metadata": {},
          "execution_count": 33
        }
      ]
    },
    {
      "cell_type": "code",
      "metadata": {
        "id": "m7k7G0hPVVs1",
        "colab": {
          "base_uri": "https://localhost:8080/"
        },
        "outputId": "c0453d82-5813-4397-e010-03f644799851"
      },
      "source": [
        "print(\"f1 score for KNN classifier\")\n",
        "f1_score(df_test[\"target\"], all_pred_knn, average='macro')"
      ],
      "execution_count": 34,
      "outputs": [
        {
          "output_type": "stream",
          "name": "stdout",
          "text": [
            "f1 score for KNN classifier\n"
          ]
        },
        {
          "output_type": "execute_result",
          "data": {
            "text/plain": [
              "0.7020841025174253"
            ]
          },
          "metadata": {},
          "execution_count": 34
        }
      ]
    },
    {
      "cell_type": "code",
      "metadata": {
        "id": "xYORSsikVVs2",
        "colab": {
          "base_uri": "https://localhost:8080/",
          "height": 392
        },
        "outputId": "f7d88d12-c697-4135-e004-25014a67a560"
      },
      "source": [
        "import seaborn as sns\n",
        "import matplotlib.pyplot as plt\n",
        "\n",
        "population=[0.844, 0.732, 0.788]\n",
        "cv_metrics = pd.DataFrame({\"Naive-Bayes\": 0.7868466879271618,\n",
        "                           \"Rocchio\": 0.7366037643936172,\n",
        "                          \"KNN\": 0.7020841025174253\n",
        "                          },\n",
        "                         index=[0])\n",
        "plt.figure(figsize=(8, 6))\n",
        "splot=sns.barplot(data=cv_metrics)\n",
        "for p in splot.patches:\n",
        "    splot.annotate(format(p.get_height(), '.4f'), \n",
        "                   (p.get_x() + p.get_width() / 2., p.get_height()), \n",
        "                   ha = 'center', va = 'center', \n",
        "                   xytext = (0, 9), \n",
        "                   textcoords = 'offset points')\n",
        "plt.xlabel(\"F1-scores\", size=14);"
      ],
      "execution_count": 35,
      "outputs": [
        {
          "output_type": "display_data",
          "data": {
            "image/png": "[encoded data removed]",
            "text/plain": [
              "<Figure size 576x432 with 1 Axes>"
            ]
          },
          "metadata": {
            "needs_background": "light"
          }
        }
      ]
    },
    {
      "cell_type": "code",
      "metadata": {
        "colab": {
          "base_uri": "https://localhost:8080/",
          "height": 392
        },
        "id": "k8WbJqvndQmi",
        "outputId": "0f42b4b7-e283-4ef6-a39b-faecf59b3a52"
      },
      "source": [
        "import seaborn as sns\n",
        "import matplotlib.pyplot as plt\n",
        "\n",
        "population=[0.844, 0.732, 0.788]\n",
        "cv_metrics = pd.DataFrame({\"Naive-Bayes\": 0.8363432540126308,\n",
        "                           \"Rocchio\": 0.7713099423425411,\n",
        "                          \"KNN\": 0.7109115523871894\n",
        "                          },\n",
        "                         index=[0])\n",
        "plt.figure(figsize=(8, 6))\n",
        "splot=sns.barplot(data=cv_metrics)\n",
        "for p in splot.patches:\n",
        "    splot.annotate(format(p.get_height(), '.4f'), \n",
        "                   (p.get_x() + p.get_width() / 2., p.get_height()), \n",
        "                   ha = 'center', va = 'center', \n",
        "                   xytext = (0, 9), \n",
        "                   textcoords = 'offset points')\n",
        "plt.xlabel(\"precision score\", size=14);"
      ],
      "execution_count": 37,
      "outputs": [
        {
          "output_type": "display_data",
          "data": {
            "image/png": "[encoded data removed]",
            "text/plain": [
              "<Figure size 576x432 with 1 Axes>"
            ]
          },
          "metadata": {
            "needs_background": "light"
          }
        }
      ]
    },
    {
      "cell_type": "code",
      "metadata": {
        "colab": {
          "base_uri": "https://localhost:8080/",
          "height": 392
        },
        "id": "yihcq0xcdg8k",
        "outputId": "89099a2e-6bdf-4eae-debe-c45d827bd280"
      },
      "source": [
        "import seaborn as sns\n",
        "import matplotlib.pyplot as plt\n",
        "\n",
        "population=[0.844, 0.732, 0.788]\n",
        "cv_metrics = pd.DataFrame({\"Naive-Bayes\": 0.7868466879271618,\n",
        "                           \"Rocchio\": 0.7248977059596903,\n",
        "                          \"KNN\": 0.7017206408756015\n",
        "                          },\n",
        "                         index=[0])\n",
        "plt.figure(figsize=(8, 6))\n",
        "splot=sns.barplot(data=cv_metrics)\n",
        "for p in splot.patches:\n",
        "    splot.annotate(format(p.get_height(), '.4f'), \n",
        "                   (p.get_x() + p.get_width() / 2., p.get_height()), \n",
        "                   ha = 'center', va = 'center', \n",
        "                   xytext = (0, 9), \n",
        "                   textcoords = 'offset points')\n",
        "plt.xlabel(\"precision score\", size=14);"
      ],
      "execution_count": 38,
      "outputs": [
        {
          "output_type": "display_data",
          "data": {
            "image/png": "[encoded data removed]",
            "text/plain": [
              "<Figure size 576x432 with 1 Axes>"
            ]
          },
          "metadata": {
            "needs_background": "light"
          }
        }
      ]
    },
    {
      "cell_type": "code",
      "metadata": {
        "id": "6B6oS0eAdzQh"
      },
      "source": [
        ""
      ],
      "execution_count": null,
      "outputs": []
    }
  ]
}